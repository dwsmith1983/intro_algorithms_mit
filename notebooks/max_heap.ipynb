{
 "cells": [
  {
   "cell_type": "markdown",
   "id": "2ae2e403-715d-4f2e-905f-b7004ef76aba",
   "metadata": {},
   "source": [
    "# Max Heap\n",
    "Max heap operations on a list. Later we will define a MaxHeap class."
   ]
  },
  {
   "cell_type": "code",
   "execution_count": 1,
   "id": "33375fed-b127-4adf-b087-f15affae0dc3",
   "metadata": {},
   "outputs": [],
   "source": [
    "from typing import List\n",
    "import numpy as np\n",
    "import sys"
   ]
  },
  {
   "cell_type": "code",
   "execution_count": 2,
   "id": "f2f828c8-4e3a-4711-ba4e-807d81d7c049",
   "metadata": {},
   "outputs": [],
   "source": [
    "def max_heapify(arr: List[int], idx: int, size: int) -> None:\n",
    "    \"\"\"\n",
    "    In place algorithm to heapify an array. For all parent idx, left <= idx and right <= idx.\n",
    "    \"\"\"\n",
    "    max_idx_val = idx\n",
    "    left_idx = 2 * idx + 1\n",
    "    right_idx = 2 * (idx + 1)\n",
    "    \n",
    "    if left_idx < size and arr[left_idx] > arr[max_idx_val]:\n",
    "        max_idx_val = left_idx\n",
    "        \n",
    "    if right_idx < size and arr[right_idx] > arr[max_idx_val]:\n",
    "        max_idx_val = right_idx\n",
    "        \n",
    "    if max_idx_val != idx:\n",
    "        # swap\n",
    "        arr[idx], arr[max_idx_val] = arr[max_idx_val], arr[idx]\n",
    "        max_heapify(arr, max_idx_val, size)"
   ]
  },
  {
   "cell_type": "code",
   "execution_count": 3,
   "id": "539fdae8-e6b0-47d9-ae8d-4b81c818eb27",
   "metadata": {},
   "outputs": [],
   "source": [
    "def build_max_heap(arr: List[int], size: int) -> None:\n",
    "    \"\"\"\n",
    "    For each node, we need to abide by the max_heapify principle. This will run through the tree.\n",
    "    \"\"\"\n",
    "    for i in range(size // 2 - 1, -1, -1):\n",
    "        max_heapify(arr, i, size)"
   ]
  },
  {
   "cell_type": "code",
   "execution_count": 4,
   "id": "b8daaaee-5122-4ce7-86b3-fe1ff71439f8",
   "metadata": {},
   "outputs": [],
   "source": [
    "def heap_sort(arr: List[int]) -> None:\n",
    "    \"\"\"\n",
    "    Sort a max heap.\n",
    "    \"\"\"\n",
    "    size = len(arr)\n",
    "    build_max_heap(arr, size)\n",
    "    \n",
    "    for i in range(size - 1, 0, -1):\n",
    "        arr[i], arr[0] = arr[0], arr[i]\n",
    "        # max idx should be 0 the root\n",
    "        max_heapify(arr, 0, i)"
   ]
  },
  {
   "cell_type": "code",
   "execution_count": 5,
   "id": "2520bd2e-a15c-4f3b-8ff5-cbd209c6ae21",
   "metadata": {},
   "outputs": [
    {
     "data": {
      "text/plain": [
       "[0, 1, 2, 3, 4, 5, 6, 7, 8, 9]"
      ]
     },
     "execution_count": 5,
     "metadata": {},
     "output_type": "execute_result"
    }
   ],
   "source": [
    "a = [j for j in range(10)]\n",
    "np.random.shuffle(a)\n",
    "heap_sort(a)\n",
    "a"
   ]
  },
  {
   "cell_type": "code",
   "execution_count": 6,
   "id": "46a09e3d-96bd-4971-9c07-0cdc1cfb20ec",
   "metadata": {},
   "outputs": [
    {
     "name": "stdout",
     "output_type": "stream",
     "text": [
      "4.08 ms ± 115 µs per loop (mean ± std. dev. of 7 runs, 100 loops each)\n"
     ]
    }
   ],
   "source": [
    "%%timeit\n",
    "b = [j for j in range(1000)]\n",
    "np.random.shuffle(b)\n",
    "heap_sort(b)"
   ]
  },
  {
   "cell_type": "code",
   "execution_count": 7,
   "id": "a17183ef-943c-4a6c-bfba-8490736825e1",
   "metadata": {},
   "outputs": [
    {
     "name": "stdout",
     "output_type": "stream",
     "text": [
      "126 µs ± 2.3 µs per loop (mean ± std. dev. of 7 runs, 10000 loops each)\n"
     ]
    }
   ],
   "source": [
    "%%timeit\n",
    "b = [j for j in range(1000)]\n",
    "np.random.shuffle(b)\n",
    "c = sorted(b)"
   ]
  },
  {
   "cell_type": "code",
   "execution_count": 8,
   "id": "9ec74070-006e-444c-b056-c5436672ec94",
   "metadata": {},
   "outputs": [
    {
     "name": "stdout",
     "output_type": "stream",
     "text": [
      "123 µs ± 2.32 µs per loop (mean ± std. dev. of 7 runs, 10000 loops each)\n"
     ]
    }
   ],
   "source": [
    "%%timeit\n",
    "b = [j for j in range(1000)]\n",
    "np.random.shuffle(b)\n",
    "b.sort()"
   ]
  },
  {
   "cell_type": "code",
   "execution_count": 9,
   "id": "e03c82a5-f95c-4802-bc0e-f13ad8018de3",
   "metadata": {},
   "outputs": [],
   "source": [
    "def heap_max(heap: List[int]) -> int:\n",
    "    \"\"\"\n",
    "    A max heap has a maximal value at the root node.\n",
    "    \"\"\"\n",
    "    return heap[0]"
   ]
  },
  {
   "cell_type": "code",
   "execution_count": 10,
   "id": "d1f8c45a-1aac-4bf2-943f-75ab532c20bf",
   "metadata": {},
   "outputs": [],
   "source": [
    "def heap_extract_max(heap: List[int]) -> int:\n",
    "    \"\"\"\n",
    "    Since the max element is the root node, pop it from the list and return.\n",
    "    Use when a naive heap as a list.\n",
    "    \"\"\"\n",
    "    if len(heap) < 1:\n",
    "        raise Exception(\"Heap is empty.\")\n",
    "        \n",
    "    return heap.pop(0)  "
   ]
  },
  {
   "cell_type": "markdown",
   "id": "53474135-3a0d-49f5-9829-6ade661e7477",
   "metadata": {},
   "source": [
    "## Heap Class Object"
   ]
  },
  {
   "cell_type": "code",
   "execution_count": 11,
   "id": "10c29f57-9712-43aa-b462-3bb2c26eb5a5",
   "metadata": {},
   "outputs": [],
   "source": [
    "class MaxHeap:\n",
    "    def __init__(self, maxsize):\n",
    "        self.maxsize = maxsize\n",
    "        self.size = 0\n",
    "        self.Heap = [0] * (self.maxsize + 1)\n",
    "        self.Heap[0] = sys.maxsize\n",
    "        self.FRONT = 1\n",
    "  \n",
    "    def parent(self, pos):\n",
    "        \"\"\"\n",
    "        Parent of current node. Let 1 be the root. Then\n",
    "        \n",
    "        2 -> 1 and 3 -> 1 so nodes 2 and 3 are children of node 1. \n",
    "        \"\"\" \n",
    "        return pos // 2\n",
    "  \n",
    "    def left_child(self, pos): \n",
    "        \"\"\"\n",
    "        Follows from the definition of parent\n",
    "        \"\"\"\n",
    "        return 2 * pos\n",
    "  \n",
    "    def right_child(self, pos):\n",
    "        \"\"\"\n",
    "        Follows from the definition of parent\n",
    "        \"\"\"\n",
    "        return 2 * pos + 1\n",
    "  \n",
    "    def is_leaf(self, pos):\n",
    "        if pos >= (self.size // 2) and pos <= self.size:\n",
    "            return True\n",
    "        return False\n",
    "  \n",
    "    def swap(self, fpos, spos):\n",
    "        self.Heap[fpos], self.Heap[spos] = self.Heap[spos], self.Heap[fpos]\n",
    "  \n",
    "    def max_heapify(self, pos):\n",
    "        if not self.isLeaf(pos):\n",
    "            # one of the children larger than parent\n",
    "            if (self.Heap[pos] < self.Heap[self.left_child(pos)] or\n",
    "                self.Heap[pos] < self.Heap[self.right_child(pos)]):\n",
    "                # left child largest\n",
    "                if (self.Heap[self.left_child(pos)] > self.Heap[self.right_child(pos)]):\n",
    "                    self.swap(pos, self.left_child(pos))\n",
    "                    self.max_heapify(self.left_child(pos))\n",
    "                # if right child largest\n",
    "                else:\n",
    "                    self.swap(pos, self.right_child(pos))\n",
    "                    self.maxHeapify(self.right_child(pos))\n",
    "  \n",
    "    def insert(self, element):  \n",
    "        if self.size >= self.maxsize:\n",
    "            return\n",
    "        \n",
    "        self.size += 1\n",
    "        self.Heap[self.size] = element\n",
    "  \n",
    "        current = self.size\n",
    "  \n",
    "        while (self.Heap[current] > self.Heap[self.parent(current)]):\n",
    "            self.swap(current, self.parent(current))\n",
    "            current = self.parent(current)\n",
    "  \n",
    "    def __str__(self):  \n",
    "        for i in range(1, (self.size // 2 + 1)):\n",
    "            print(\" PARENT : \" + str(self.Heap[i]) + \n",
    "                  \" LEFT CHILD : \" + str(self.Heap[2 * i]) +\n",
    "                  \" RIGHT CHILD : \" + str(self.Heap[2 * i + 1]))\n",
    "  \n",
    "    def extract_max(self):\n",
    "        popped = self.Heap[self.FRONT]\n",
    "        self.Heap[self.FRONT] = self.Heap[self.size]\n",
    "        self.size -= 1\n",
    "        self.maxHeapify(self.FRONT)  \n",
    "        return popped"
   ]
  },
  {
   "cell_type": "code",
   "execution_count": 12,
   "id": "867f6109-7227-42e9-b754-a3065e3c728a",
   "metadata": {},
   "outputs": [],
   "source": [
    "max_heap = MaxHeap(200)\n",
    "a = [i for i in range(101)]\n",
    "np.random.shuffle(a)\n",
    "for i in a:\n",
    "    max_heap.insert(i)"
   ]
  },
  {
   "cell_type": "code",
   "execution_count": 13,
   "id": "0fa59d2a-6469-478e-8cb1-69743c54f9f2",
   "metadata": {},
   "outputs": [
    {
     "name": "stdout",
     "output_type": "stream",
     "text": [
      " PARENT : 100 LEFT CHILD : 99 RIGHT CHILD : 94\n",
      " PARENT : 99 LEFT CHILD : 98 RIGHT CHILD : 95\n",
      " PARENT : 94 LEFT CHILD : 93 RIGHT CHILD : 89\n",
      " PARENT : 98 LEFT CHILD : 91 RIGHT CHILD : 97\n",
      " PARENT : 95 LEFT CHILD : 80 RIGHT CHILD : 90\n",
      " PARENT : 93 LEFT CHILD : 92 RIGHT CHILD : 83\n",
      " PARENT : 89 LEFT CHILD : 78 RIGHT CHILD : 81\n",
      " PARENT : 91 LEFT CHILD : 77 RIGHT CHILD : 87\n",
      " PARENT : 97 LEFT CHILD : 72 RIGHT CHILD : 96\n",
      " PARENT : 80 LEFT CHILD : 68 RIGHT CHILD : 74\n",
      " PARENT : 90 LEFT CHILD : 84 RIGHT CHILD : 65\n",
      " PARENT : 92 LEFT CHILD : 75 RIGHT CHILD : 86\n",
      " PARENT : 83 LEFT CHILD : 67 RIGHT CHILD : 55\n",
      " PARENT : 78 LEFT CHILD : 17 RIGHT CHILD : 71\n",
      " PARENT : 81 LEFT CHILD : 58 RIGHT CHILD : 73\n",
      " PARENT : 77 LEFT CHILD : 37 RIGHT CHILD : 61\n",
      " PARENT : 87 LEFT CHILD : 40 RIGHT CHILD : 82\n",
      " PARENT : 72 LEFT CHILD : 42 RIGHT CHILD : 70\n",
      " PARENT : 96 LEFT CHILD : 44 RIGHT CHILD : 88\n",
      " PARENT : 68 LEFT CHILD : 47 RIGHT CHILD : 62\n",
      " PARENT : 74 LEFT CHILD : 57 RIGHT CHILD : 69\n",
      " PARENT : 84 LEFT CHILD : 66 RIGHT CHILD : 76\n",
      " PARENT : 65 LEFT CHILD : 26 RIGHT CHILD : 63\n",
      " PARENT : 75 LEFT CHILD : 53 RIGHT CHILD : 49\n",
      " PARENT : 86 LEFT CHILD : 85 RIGHT CHILD : 79\n",
      " PARENT : 67 LEFT CHILD : 13 RIGHT CHILD : 20\n",
      " PARENT : 55 LEFT CHILD : 36 RIGHT CHILD : 14\n",
      " PARENT : 17 LEFT CHILD : 1 RIGHT CHILD : 6\n",
      " PARENT : 71 LEFT CHILD : 39 RIGHT CHILD : 46\n",
      " PARENT : 58 LEFT CHILD : 52 RIGHT CHILD : 12\n",
      " PARENT : 73 LEFT CHILD : 59 RIGHT CHILD : 60\n",
      " PARENT : 37 LEFT CHILD : 2 RIGHT CHILD : 5\n",
      " PARENT : 61 LEFT CHILD : 29 RIGHT CHILD : 35\n",
      " PARENT : 40 LEFT CHILD : 16 RIGHT CHILD : 28\n",
      " PARENT : 82 LEFT CHILD : 31 RIGHT CHILD : 48\n",
      " PARENT : 42 LEFT CHILD : 0 RIGHT CHILD : 10\n",
      " PARENT : 70 LEFT CHILD : 27 RIGHT CHILD : 56\n",
      " PARENT : 44 LEFT CHILD : 8 RIGHT CHILD : 23\n",
      " PARENT : 88 LEFT CHILD : 22 RIGHT CHILD : 64\n",
      " PARENT : 47 LEFT CHILD : 15 RIGHT CHILD : 34\n",
      " PARENT : 62 LEFT CHILD : 43 RIGHT CHILD : 54\n",
      " PARENT : 57 LEFT CHILD : 41 RIGHT CHILD : 38\n",
      " PARENT : 69 LEFT CHILD : 19 RIGHT CHILD : 9\n",
      " PARENT : 66 LEFT CHILD : 11 RIGHT CHILD : 25\n",
      " PARENT : 76 LEFT CHILD : 21 RIGHT CHILD : 51\n",
      " PARENT : 26 LEFT CHILD : 4 RIGHT CHILD : 24\n",
      " PARENT : 63 LEFT CHILD : 50 RIGHT CHILD : 3\n",
      " PARENT : 53 LEFT CHILD : 18 RIGHT CHILD : 33\n",
      " PARENT : 49 LEFT CHILD : 32 RIGHT CHILD : 7\n",
      " PARENT : 85 LEFT CHILD : 30 RIGHT CHILD : 45\n"
     ]
    }
   ],
   "source": [
    "max_heap.__str__()"
   ]
  },
  {
   "cell_type": "code",
   "execution_count": null,
   "id": "4898e6c2-f3f8-452b-bbb3-54f091659084",
   "metadata": {},
   "outputs": [],
   "source": []
  }
 ],
 "metadata": {
  "kernelspec": {
   "display_name": "Python 3",
   "language": "python",
   "name": "python3"
  },
  "language_info": {
   "codemirror_mode": {
    "name": "ipython",
    "version": 3
   },
   "file_extension": ".py",
   "mimetype": "text/x-python",
   "name": "python",
   "nbconvert_exporter": "python",
   "pygments_lexer": "ipython3",
   "version": "3.8.2"
  }
 },
 "nbformat": 4,
 "nbformat_minor": 5
}
