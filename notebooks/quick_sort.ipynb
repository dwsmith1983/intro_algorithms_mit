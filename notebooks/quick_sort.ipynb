{
 "cells": [
  {
   "cell_type": "code",
   "execution_count": 1,
   "id": "d3e3fd0c-8097-4cae-8433-be936070da43",
   "metadata": {},
   "outputs": [],
   "source": [
    "from typing import List\n",
    "import numpy as np"
   ]
  },
  {
   "cell_type": "code",
   "execution_count": 2,
   "id": "7357e64e-399e-4e9a-8c7d-df427aa4f98f",
   "metadata": {},
   "outputs": [],
   "source": [
    "def quick_sort(arr: List[int], start_idx: int, size: int) -> None:\n",
    "    \"\"\"\n",
    "    Make sure size is len(arr) - 1; for whole array, start_idx = 0\n",
    "    \"\"\"\n",
    "    if start_idx < size:\n",
    "        q = partition(arr, start_idx, size)\n",
    "        quick_sort(arr, start_idx, q - 1)\n",
    "        quick_sort(arr, q + 1, size)"
   ]
  },
  {
   "cell_type": "code",
   "execution_count": 3,
   "id": "61f34c22-0608-4c22-bb50-7ecf037760e1",
   "metadata": {},
   "outputs": [],
   "source": [
    "def partition(arr: List[int], start_idx: int, size: int) -> int:\n",
    "    pivot = arr[size]  # last element\n",
    "    i = start_idx - 1\n",
    "    \n",
    "    for j in range(start_idx, size):\n",
    "        if arr[j] <= pivot:\n",
    "            i += 1\n",
    "            arr[i], arr[j] = arr[j], arr[i]\n",
    "            \n",
    "    arr[i + 1], arr[size] = arr[size], arr[i + 1]\n",
    "    return i + 1"
   ]
  },
  {
   "cell_type": "code",
   "execution_count": 7,
   "id": "4eedaf0c-d232-4694-af28-7b01f3de4eb0",
   "metadata": {},
   "outputs": [],
   "source": [
    "a = [i for i in range(10)]\n",
    "np.random.shuffle(a)"
   ]
  },
  {
   "cell_type": "code",
   "execution_count": 8,
   "id": "f0fa27fb-7d4c-4be8-ae15-6699ce6d22dd",
   "metadata": {},
   "outputs": [],
   "source": [
    "quick_sort(a, 0, len(a) - 1)"
   ]
  },
  {
   "cell_type": "code",
   "execution_count": 9,
   "id": "ff30bab5-5c31-4029-9c4d-4a6ca27719af",
   "metadata": {},
   "outputs": [
    {
     "data": {
      "text/plain": [
       "[0, 1, 2, 3, 4, 5, 6, 7, 8, 9]"
      ]
     },
     "execution_count": 9,
     "metadata": {},
     "output_type": "execute_result"
    }
   ],
   "source": [
    "a"
   ]
  },
  {
   "cell_type": "code",
   "execution_count": 10,
   "id": "c9b78292-0312-4d76-ad0e-549d8d8aa268",
   "metadata": {},
   "outputs": [
    {
     "name": "stdout",
     "output_type": "stream",
     "text": [
      "1.77 ms ± 14.1 µs per loop (mean ± std. dev. of 7 runs, 1000 loops each)\n"
     ]
    }
   ],
   "source": [
    "%%timeit\n",
    "a = [i for i in range(1000)]\n",
    "np.random.shuffle(a)\n",
    "quick_sort(a, 0, len(a) - 1)"
   ]
  },
  {
   "cell_type": "markdown",
   "id": "68ec180e-8803-4504-8518-8291af21516f",
   "metadata": {},
   "source": [
    "# Performance\n",
    "Recall that with `heap_sort` on 1000 elements, we had 4.08ms, and with builtin `sorted` and `list.sort()`, we had 126$\\mu$s and 123$\\mu$s, respectively. We can see that `quick_sort` is more efficient then `heap_sort`."
   ]
  },
  {
   "cell_type": "code",
   "execution_count": 12,
   "id": "10865223-b5ed-4e9a-b743-50bfeec5fa5a",
   "metadata": {},
   "outputs": [
    {
     "data": {
      "text/plain": [
       "[0, 1, 2, 3, 4, 5, 6, 7, 8, 9]"
      ]
     },
     "execution_count": 12,
     "metadata": {},
     "output_type": "execute_result"
    }
   ],
   "source": [
    "# new list so aux memory = O(n)\n",
    "a = [i for i in range(10)]\n",
    "np.random.shuffle(a)\n",
    "aa = sorted(a)\n",
    "aa"
   ]
  },
  {
   "cell_type": "code",
   "execution_count": 13,
   "id": "ab0e0d51-7f8f-46ba-862c-ec7edc30789e",
   "metadata": {},
   "outputs": [
    {
     "data": {
      "text/plain": [
       "[0, 1, 2, 3, 4, 5, 6, 7, 8, 9]"
      ]
     },
     "execution_count": 13,
     "metadata": {},
     "output_type": "execute_result"
    }
   ],
   "source": [
    "# inplace\n",
    "a = [i for i in range(10)]\n",
    "np.random.shuffle(a)\n",
    "a.sort()\n",
    "a"
   ]
  },
  {
   "cell_type": "code",
   "execution_count": null,
   "id": "bd4dbe23-2fc9-493f-bae3-9dd4c0a8a3fb",
   "metadata": {},
   "outputs": [],
   "source": []
  }
 ],
 "metadata": {
  "kernelspec": {
   "display_name": "Python 3",
   "language": "python",
   "name": "python3"
  },
  "language_info": {
   "codemirror_mode": {
    "name": "ipython",
    "version": 3
   },
   "file_extension": ".py",
   "mimetype": "text/x-python",
   "name": "python",
   "nbconvert_exporter": "python",
   "pygments_lexer": "ipython3",
   "version": "3.8.2"
  }
 },
 "nbformat": 4,
 "nbformat_minor": 5
}
